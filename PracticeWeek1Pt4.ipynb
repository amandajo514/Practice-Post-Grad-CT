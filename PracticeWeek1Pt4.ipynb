{
 "cells": [
  {
   "cell_type": "markdown",
   "id": "f35eb3d4-0d5a-464d-b4f1-093684c34291",
   "metadata": {},
   "source": [
    "***Practice Week 1 Post Grad***"
   ]
  },
  {
   "cell_type": "markdown",
   "id": "f52b71e2-5fc8-4de6-ae48-d174f4b9eb7e",
   "metadata": {},
   "source": [
    "\n",
    "Digital root is the recursive sum of all the digits in a number.\n",
    "\n",
    "Given n, take the sum of the digits of n. If that value has more than one digit, continue reducing in this way until a single-digit number is produced. The input will be a non-negative integer.\n",
    "\n",
    "Examples\n",
    "    16  -->  1 + 6 = 7\n",
    "   942  -->  9 + 4 + 2 = 15  -->  1 + 5 = 6\n",
    "132189  -->  1 + 3 + 2 + 1 + 8 + 9 = 24  -->  2 + 4 = 6\n",
    "493193  -->  4 + 9 + 3 + 1 + 9 + 3 = 29  -->  2 + 9 = 11  -->  1 + 1 = 2"
   ]
  },
  {
   "cell_type": "code",
   "execution_count": 2,
   "id": "b10464a0-a3fd-4098-a870-6f41870480ec",
   "metadata": {
    "tags": []
   },
   "outputs": [
    {
     "name": "stdout",
     "output_type": "stream",
     "text": [
      "7\n",
      "6\n",
      "6\n",
      "2\n"
     ]
    }
   ],
   "source": [
    "def digital_root(n):\n",
    "    while n >= 10:\n",
    "        n = sum(int(digit) for digit in str(n))\n",
    "    return n\n",
    "\n",
    "print(digital_root(16))      # Output: 7\n",
    "print(digital_root(942))     # Output: 6\n",
    "print(digital_root(132189))  # Output: 6\n",
    "print(digital_root(493193))  # Output: 2 "
   ]
  },
  {
   "cell_type": "markdown",
   "id": "b9134d6e-6176-461d-9c85-f1713abef5ca",
   "metadata": {},
   "source": [
    "Question 8): Consider an array/list of sheep where some sheep may be missing from their place. We need a function that counts the number of sheep present in the array (true means present).\n",
    "\n",
    "For example,\n",
    "\n",
    "[True,  True,  True,  False,\n",
    "  True,  True,  True,  True ,\n",
    "  True,  False, True,  False,\n",
    "  True,  False, False, True ,\n",
    "  True,  True,  True,  True ,\n",
    "  False, False, True,  True]\n",
    "The correct answer would be 17.\n",
    "\n",
    "Hint: Don't forget to check for bad values like null/undefined"
   ]
  },
  {
   "cell_type": "code",
   "execution_count": 3,
   "id": "4424f28a-2a07-418e-9046-f98cb4f1cc15",
   "metadata": {
    "tags": []
   },
   "outputs": [
    {
     "name": "stdout",
     "output_type": "stream",
     "text": [
      "16\n"
     ]
    }
   ],
   "source": [
    "def count_sheeps(sheep_array):\n",
    "    return sheep_array.count(True)\n",
    "\n",
    "sheep_array = [True, True, True, False, True, True, True, True, True, False, True, False, True, False, False, True, True, True, True, False, False, True, True]\n",
    "\n",
    "print(count_sheeps(sheep_array))"
   ]
  }
 ],
 "metadata": {
  "kernelspec": {
   "display_name": "Python 3 (ipykernel)",
   "language": "python",
   "name": "python3"
  },
  "language_info": {
   "codemirror_mode": {
    "name": "ipython",
    "version": 3
   },
   "file_extension": ".py",
   "mimetype": "text/x-python",
   "name": "python",
   "nbconvert_exporter": "python",
   "pygments_lexer": "ipython3",
   "version": "3.11.5"
  }
 },
 "nbformat": 4,
 "nbformat_minor": 5
}
