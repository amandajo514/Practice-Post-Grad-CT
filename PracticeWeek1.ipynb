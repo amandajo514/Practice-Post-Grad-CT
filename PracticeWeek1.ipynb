{
 "cells": [
  {
   "cell_type": "markdown",
   "id": "641e8643-19b5-40d4-9bcc-ff20affa1ef8",
   "metadata": {},
   "source": [
    "***Practice Week 1 Post Grad***"
   ]
  },
  {
   "cell_type": "markdown",
   "id": "570a9315-5a68-4840-b947-e52d05a8de8f",
   "metadata": {
    "tags": []
   },
   "source": [
    "Question 1)String Reversal: Description: Write a function that accepts a string as input and returns the reversed string. This exercise focuses on string manipulation using slicing in Python. You will learn how to reverse a string by leveraging Python’s indexing and slicing features."
   ]
  },
  {
   "cell_type": "code",
   "execution_count": 10,
   "id": "120c46f4-7931-4972-aa93-673effaa89d1",
   "metadata": {
    "tags": []
   },
   "outputs": [
    {
     "name": "stdout",
     "output_type": "stream",
     "text": [
      ".jA si eman yM .iH\n"
     ]
    }
   ],
   "source": [
    "def reverse_string(input_string):\n",
    "    reversed_string = input_string[::-1]\n",
    "    return reversed_string\n",
    "\n",
    "input_string = \"Hi. My name is Aj.\"\n",
    "\n",
    "result = reverse_string(input_string)\n",
    "\n",
    "print(result)"
   ]
  },
  {
   "cell_type": "markdown",
   "id": "f2ce59ea-5f18-49ae-9f8a-326ea0e35367",
   "metadata": {
    "tags": []
   },
   "source": [
    "Question 2)LIST COMPREHENSION: Description: Write a program that takes a list of numbers and returns a new list containing only the even numbers. This exercise introduces list comprehension in Python, a concise way to create new lists based on existing ones. You will practice using conditional statements within list comprehensions to filter elements."
   ]
  },
  {
   "cell_type": "code",
   "execution_count": 11,
   "id": "88af1da5-71f6-4b39-a017-7a80ebf5c98b",
   "metadata": {
    "tags": []
   },
   "outputs": [
    {
     "name": "stdout",
     "output_type": "stream",
     "text": [
      "[2, 4, 6, 8, 10]\n"
     ]
    }
   ],
   "source": [
    "def filter_even_numbers(input_list):\n",
    "    even_numbers = [num for num in input_list if num % 2 == 0]\n",
    "    return even_numbers\n",
    "\n",
    "numbers_list = [1, 2, 3, 4, 5, 6, 7, 8, 9, 10]\n",
    "result = filter_even_numbers(numbers_list)\n",
    "\n",
    "print(result)"
   ]
  }
 ],
 "metadata": {
  "kernelspec": {
   "display_name": "Python 3 (ipykernel)",
   "language": "python",
   "name": "python3"
  },
  "language_info": {
   "codemirror_mode": {
    "name": "ipython",
    "version": 3
   },
   "file_extension": ".py",
   "mimetype": "text/x-python",
   "name": "python",
   "nbconvert_exporter": "python",
   "pygments_lexer": "ipython3",
   "version": "3.11.5"
  }
 },
 "nbformat": 4,
 "nbformat_minor": 5
}
