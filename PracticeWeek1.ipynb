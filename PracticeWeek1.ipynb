{
 "cells": [
  {
   "cell_type": "markdown",
   "id": "641e8643-19b5-40d4-9bcc-ff20affa1ef8",
   "metadata": {},
   "source": [
    "***Practice Week 1 Post Grad***"
   ]
  },
  {
   "cell_type": "markdown",
   "id": "570a9315-5a68-4840-b947-e52d05a8de8f",
   "metadata": {
    "tags": []
   },
   "source": [
    "Question 1)String Reversal\n",
    "Description: Write a function that accepts a string as input and returns the reversed string. This exercise focuses on string manipulation using slicing in Python. You will learn how to reverse a string by leveraging Python’s indexing and slicing features."
   ]
  },
  {
   "cell_type": "code",
   "execution_count": 10,
   "id": "120c46f4-7931-4972-aa93-673effaa89d1",
   "metadata": {
    "tags": []
   },
   "outputs": [
    {
     "name": "stdout",
     "output_type": "stream",
     "text": [
      ".jA si eman yM .iH\n"
     ]
    }
   ],
   "source": [
    "def reverse_string(input_string):\n",
    "    reversed_string = input_string[::-1]\n",
    "    return reversed_string\n",
    "\n",
    "input_string = \"Hi. My name is Aj.\"\n",
    "\n",
    "result = reverse_string(input_string)\n",
    "\n",
    "print(result)"
   ]
  },
  {
   "cell_type": "markdown",
   "id": "f2ce59ea-5f18-49ae-9f8a-326ea0e35367",
   "metadata": {
    "tags": []
   },
   "source": [
    "Question 2)"
   ]
  },
  {
   "cell_type": "markdown",
   "id": "b1034e38-b233-43ef-8234-c054eeaf81bf",
   "metadata": {
    "tags": []
   },
   "source": [
    "Question 3)"
   ]
  },
  {
   "cell_type": "markdown",
   "id": "cd24f1b6-7f3c-4f17-9b2b-185e16e95ab5",
   "metadata": {
    "tags": []
   },
   "source": [
    "Question 4"
   ]
  },
  {
   "cell_type": "markdown",
   "id": "c738e7ac-40a9-494b-be21-f48c1da4aeed",
   "metadata": {
    "tags": []
   },
   "source": [
    "Question 5:"
   ]
  }
 ],
 "metadata": {
  "kernelspec": {
   "display_name": "Python 3 (ipykernel)",
   "language": "python",
   "name": "python3"
  },
  "language_info": {
   "codemirror_mode": {
    "name": "ipython",
    "version": 3
   },
   "file_extension": ".py",
   "mimetype": "text/x-python",
   "name": "python",
   "nbconvert_exporter": "python",
   "pygments_lexer": "ipython3",
   "version": "3.11.5"
  }
 },
 "nbformat": 4,
 "nbformat_minor": 5
}
