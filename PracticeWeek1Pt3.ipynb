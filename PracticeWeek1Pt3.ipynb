{
 "cells": [
  {
   "cell_type": "markdown",
   "id": "28f0f163-0927-4904-93a4-c43abe691be5",
   "metadata": {},
   "source": [
    "***Practice Week 1 Post Grad***"
   ]
  },
  {
   "cell_type": "markdown",
   "id": "c2a2687b-3ce5-4047-b291-af8547779234",
   "metadata": {},
   "source": [
    "Question 5): Prime Number Check\n",
    "Description: Write a function that accepts a number as input and returns True if it is a prime number, False otherwise. This exercise focuses on prime number determination using basic looping and mathematical operations. You will learn about loops, conditions, numbers, and Python range()."
   ]
  },
  {
   "cell_type": "code",
   "execution_count": 1,
   "id": "36afb141-cbf4-4f42-b5e1-a43792848de2",
   "metadata": {
    "tags": []
   },
   "outputs": [
    {
     "name": "stdout",
     "output_type": "stream",
     "text": [
      "True\n"
     ]
    }
   ],
   "source": [
    "def is_prime(number):\n",
    "    if number < 2:\n",
    "        return False\n",
    "    for i in range(2, int(number**0.5) + 1):\n",
    "        if number % i == 0:\n",
    "            return False\n",
    "    return True\n",
    "\n",
    "num_to_check = 17\n",
    "result = is_prime(num_to_check)\n",
    "\n",
    "print(result)"
   ]
  },
  {
   "cell_type": "markdown",
   "id": "1d188067-ced5-4f20-8ead-4f42daf1beea",
   "metadata": {},
   "source": [
    "Question 6): Greatest Common Divisor\n",
    "Description: Write a function that takes two numbers and returns their greatest common divisor (GCD). This exercise requires implementing the Euclidean algorithm to find the GCD of two numbers. You will practice using loops and conditional statements to perform repetitive calculations."
   ]
  },
  {
   "cell_type": "code",
   "execution_count": 3,
   "id": "39516dc5-0704-47f8-80a2-08fe81a388bc",
   "metadata": {
    "tags": []
   },
   "outputs": [
    {
     "name": "stdout",
     "output_type": "stream",
     "text": [
      "6\n"
     ]
    }
   ],
   "source": [
    "def find_gcd(a, b):\n",
    "    while b:\n",
    "        a, b = b, a % b\n",
    "    return a\n",
    "\n",
    "num1 = 48\n",
    "num2 = 18\n",
    "\n",
    "result = find_gcd(num1, num2)\n",
    "\n",
    "print(result)"
   ]
  }
 ],
 "metadata": {
  "kernelspec": {
   "display_name": "Python 3 (ipykernel)",
   "language": "python",
   "name": "python3"
  },
  "language_info": {
   "codemirror_mode": {
    "name": "ipython",
    "version": 3
   },
   "file_extension": ".py",
   "mimetype": "text/x-python",
   "name": "python",
   "nbconvert_exporter": "python",
   "pygments_lexer": "ipython3",
   "version": "3.11.5"
  }
 },
 "nbformat": 4,
 "nbformat_minor": 5
}
