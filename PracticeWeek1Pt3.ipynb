{
 "cells": [
  {
   "cell_type": "markdown",
   "id": "28f0f163-0927-4904-93a4-c43abe691be5",
   "metadata": {},
   "source": [
    "***Practice Week 1 Post Grad***"
   ]
  },
  {
   "cell_type": "markdown",
   "id": "c2a2687b-3ce5-4047-b291-af8547779234",
   "metadata": {},
   "source": [
    "Question 5): Prime Number Check\n",
    "Description: Write a function that accepts a number as input and returns True if it is a prime number, False otherwise. This exercise focuses on prime number determination using basic looping and mathematical operations. You will learn about loops, conditions, numbers, and Python range()."
   ]
  },
  {
   "cell_type": "markdown",
   "id": "1d188067-ced5-4f20-8ead-4f42daf1beea",
   "metadata": {},
   "source": [
    "Question 6): def is_prime(number):\n",
    "    # Check if the number is less than 2 (not a prime number)\n",
    "    if number < 2:\n",
    "        return False\n",
    "    \n",
    "    # Loop through potential divisors from 2 to the square root of the number\n",
    "    for i in range(2, int(number**0.5) + 1):\n",
    "        if number % i == 0:\n",
    "            return False  # If the number is divisible by any i, it's not prime\n",
    "    \n",
    "    return True  # If no divisors found, the number is prime\n",
    "\n",
    "# Example usage:\n",
    "num_to_check = 17\n",
    "result = is_prime(num_to_check)\n",
    "\n",
    "# Display the result\n",
    "print(result)"
   ]
  }
 ],
 "metadata": {
  "kernelspec": {
   "display_name": "Python 3 (ipykernel)",
   "language": "python",
   "name": "python3"
  },
  "language_info": {
   "codemirror_mode": {
    "name": "ipython",
    "version": 3
   },
   "file_extension": ".py",
   "mimetype": "text/x-python",
   "name": "python",
   "nbconvert_exporter": "python",
   "pygments_lexer": "ipython3",
   "version": "3.11.5"
  }
 },
 "nbformat": 4,
 "nbformat_minor": 5
}
