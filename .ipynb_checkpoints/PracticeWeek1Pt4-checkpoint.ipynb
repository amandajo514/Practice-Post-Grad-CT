{
 "cells": [
  {
   "cell_type": "markdown",
   "id": "f35eb3d4-0d5a-464d-b4f1-093684c34291",
   "metadata": {},
   "source": [
    "***Practice Week 1 Post Grad***"
   ]
  },
  {
   "cell_type": "markdown",
   "id": "f52b71e2-5fc8-4de6-ae48-d174f4b9eb7e",
   "metadata": {},
   "source": [
    "Question 7):Warmup-1 > sleep_in\n",
    "prev  |  next  |  chance\n",
    "The parameter weekday is True if it is a weekday, and the parameter vacation is True if we are on vacation. We sleep in if it is not a weekday or we're on vacation. Return True if we sleep in.\n",
    "\n",
    "\n",
    "sleep_in(False, False) → True\n",
    "sleep_in(True, False) → False\n",
    "sleep_in(False, True) → True\n",
    "\n",
    "def sleep_in(weekday, vacation):"
   ]
  },
  {
   "cell_type": "markdown",
   "id": "a751e615-e5ee-46d4-838b-848fb41d0fa7",
   "metadata": {},
   "source": [
    "Question 8):"
   ]
  }
 ],
 "metadata": {
  "kernelspec": {
   "display_name": "Python 3 (ipykernel)",
   "language": "python",
   "name": "python3"
  },
  "language_info": {
   "codemirror_mode": {
    "name": "ipython",
    "version": 3
   },
   "file_extension": ".py",
   "mimetype": "text/x-python",
   "name": "python",
   "nbconvert_exporter": "python",
   "pygments_lexer": "ipython3",
   "version": "3.11.5"
  }
 },
 "nbformat": 4,
 "nbformat_minor": 5
}
